{
 "cells": [
  {
   "cell_type": "code",
   "execution_count": 1,
   "metadata": {
    "collapsed": false
   },
   "outputs": [],
   "source": [
    "import re\n",
    "import dill\n",
    "import json\n",
    "import string\n",
    "import numpy as np\n",
    "import pandas as pd\n",
    "import matplotlib.pyplot as plt\n",
    "from nltk.corpus import stopwords\n",
    "from sklearn.decomposition import NMF\n",
    "from nltk.stem import WordNetLemmatizer\n",
    "from sklearn.feature_extraction.text import TfidfVectorizer\n",
    "from sklearn.feature_extraction.text import CountVectorizer\n",
    "\n",
    "%matplotlib inline"
   ]
  },
  {
   "cell_type": "markdown",
   "metadata": {},
   "source": [
    "## Import Datastream Json Objects\n",
    "\n",
    "'twitter_streaming.txt' was created by twitter_stream.py.\n",
    "\n",
    "Run command 'python twitter_stream.py > twitter_streaming.txt'\n",
    "to generate your own data."
   ]
  },
  {
   "cell_type": "code",
   "execution_count": 2,
   "metadata": {
    "collapsed": false
   },
   "outputs": [],
   "source": [
    "tweets_data_path = 'twitter_streaming.txt'\n",
    "\n",
    "tweets_data = []\n",
    "tweets_file = open(tweets_data_path, \"r\")\n",
    "\n",
    "for line in tweets_file:\n",
    "    try:\n",
    "        tweet = json.loads(line)\n",
    "        #Check if valid tweet containing text\n",
    "        if tweet['text']:\n",
    "            tweets_data.append(tweet)\n",
    "    except:\n",
    "        continue"
   ]
  },
  {
   "cell_type": "code",
   "execution_count": 3,
   "metadata": {
    "collapsed": false
   },
   "outputs": [
    {
     "name": "stdout",
     "output_type": "stream",
     "text": [
      "5385\n"
     ]
    }
   ],
   "source": [
    "#Working with 21MB of data and fifty-three hundred tweets from about 4 hours of scraping\n",
    "print len(tweets_data)"
   ]
  },
  {
   "cell_type": "code",
   "execution_count": 4,
   "metadata": {
    "collapsed": true
   },
   "outputs": [],
   "source": [
    "tweets = pd.DataFrame()"
   ]
  },
  {
   "cell_type": "markdown",
   "metadata": {},
   "source": [
    "###Extract data from json to Pandas  DataFrame"
   ]
  },
  {
   "cell_type": "code",
   "execution_count": 5,
   "metadata": {
    "collapsed": false
   },
   "outputs": [],
   "source": [
    "tweets['text'] = map(lambda tweet: tweet['text'], tweets_data)\n",
    "tweets['lang'] = map(lambda tweet: tweet['lang'], tweets_data)\n",
    "tweets['timestamp'] = map(lambda tweet: tweet['timestamp_ms'], tweets_data)\n",
    "tweets['retweet_count'] = map(lambda tweet: tweet['retweet_count'], tweets_data)\n",
    "tweets['hashtags'] = map(lambda tweet: tweet['entities']['hashtags'], tweets_data)\n",
    "tweets['geo'] = map(lambda tweet: tweet['geo'], tweets_data)"
   ]
  },
  {
   "cell_type": "markdown",
   "metadata": {},
   "source": [
    "###EDA\n",
    "\n",
    "####Topic\n",
    "The purpose of this analysis is to analyze the twitter stream to\n",
    "determine the trending high-level programming languages. For the\n",
    "purpose of this analysis, Python and Javascript were tracked.\n",
    "\n",
    "Running twitter_stream.py for about 4-5 hours provided 5385 tweets."
   ]
  },
  {
   "cell_type": "code",
   "execution_count": 6,
   "metadata": {
    "collapsed": false
   },
   "outputs": [
    {
     "data": {
      "image/png": "[encoded data removed]",
      "text/plain": [
       "<matplotlib.figure.Figure at 0x10323ecd0>"
      ]
     },
     "metadata": {},
     "output_type": "display_data"
    }
   ],
   "source": [
    "tweets_by_lang = tweets['lang'].value_counts()\n",
    "\n",
    "fig, ax = plt.subplots()\n",
    "ax.tick_params(axis='x', labelsize=15)\n",
    "ax.tick_params(axis='y', labelsize=10)\n",
    "ax.set_xlabel('Languages', fontsize=15)\n",
    "ax.set_ylabel('Number of tweets' , fontsize=15)\n",
    "ax.set_title('Top 5 languages', fontsize=15, fontweight='bold')\n",
    "tweets_by_lang[:5].plot(ax=ax, kind='bar', color='red');"
   ]
  },
  {
   "cell_type": "code",
   "execution_count": 7,
   "metadata": {
    "collapsed": false
   },
   "outputs": [],
   "source": [
    "def word_in_text(word, text):\n",
    "    \"\"\"Regex search for keyword in input text returning boolean.\"\"\"\n",
    "    word = word.lower()\n",
    "    text = text.lower()\n",
    "    match = re.search(word, text)\n",
    "    if match:\n",
    "        return True\n",
    "    return False"
   ]
  },
  {
   "cell_type": "code",
   "execution_count": 8,
   "metadata": {
    "collapsed": false
   },
   "outputs": [],
   "source": [
    "#Identify tweets containing the keywords in the tweet textbody\n",
    "tweets['Python'] = tweets['text'].apply(lambda tweet: word_in_text('Python', tweet))\n",
    "tweets['Javascript'] = tweets['text'].apply(lambda tweet: word_in_text('Javascript', tweet))"
   ]
  },
  {
   "cell_type": "code",
   "execution_count": 9,
   "metadata": {
    "collapsed": false
   },
   "outputs": [
    {
     "name": "stdout",
     "output_type": "stream",
     "text": [
      "Python Tweet Counts:      1672\n",
      "Javascript Tweet Counts:  3122\n"
     ]
    }
   ],
   "source": [
    "#Checking tweet counts to verify both are present\n",
    "print 'Python Tweet Counts:     ', tweets['Python'].value_counts()[True]\n",
    "print 'Javascript Tweet Counts: ', tweets['Javascript'].value_counts()[True]"
   ]
  },
  {
   "cell_type": "markdown",
   "metadata": {},
   "source": [
    "####Exploritory Analysis to see if there are any common subtopics about these languages "
   ]
  },
  {
   "cell_type": "code",
   "execution_count": 10,
   "metadata": {
    "collapsed": false
   },
   "outputs": [
    {
     "name": "stdout",
     "output_type": "stream",
     "text": [
      "3\n"
     ]
    }
   ],
   "source": [
    "#See if context is coding bootcamps\n",
    "tweets['Bootcamp'] = tweets['text'].apply(lambda tweet: word_in_text('Bootcamp', tweet))\n",
    "print tweets.Bootcamp.value_counts()[True]"
   ]
  },
  {
   "cell_type": "code",
   "execution_count": 11,
   "metadata": {
    "collapsed": false
   },
   "outputs": [
    {
     "name": "stdout",
     "output_type": "stream",
     "text": [
      "1\n"
     ]
    }
   ],
   "source": [
    "#Are people talking about online courses they took?\n",
    "tweets['MOOC'] = tweets['text'].apply(lambda tweet: word_in_text('MOOC', tweet))\n",
    "print tweets.MOOC.value_counts()[True]"
   ]
  },
  {
   "cell_type": "code",
   "execution_count": 12,
   "metadata": {
    "collapsed": false
   },
   "outputs": [
    {
     "name": "stdout",
     "output_type": "stream",
     "text": [
      "133\n"
     ]
    }
   ],
   "source": [
    "#Do they need a job?\n",
    "tweets['Hiring'] = tweets['text'].apply(lambda tweet: word_in_text('Hiring', tweet))\n",
    "print tweets.Hiring.value_counts()[True]"
   ]
  },
  {
   "cell_type": "code",
   "execution_count": 13,
   "metadata": {
    "collapsed": false
   },
   "outputs": [
    {
     "name": "stdout",
     "output_type": "stream",
     "text": [
      "526\n"
     ]
    }
   ],
   "source": [
    "#Are they advertizing an opening?\n",
    "tweets['Jobs'] = tweets['text'].apply(lambda tweet: word_in_text('Jobs', tweet))\n",
    "print tweets.Jobs.value_counts()[True]"
   ]
  },
  {
   "cell_type": "code",
   "execution_count": 14,
   "metadata": {
    "collapsed": false
   },
   "outputs": [
    {
     "name": "stdout",
     "output_type": "stream",
     "text": [
      "9\n"
     ]
    }
   ],
   "source": [
    "#Talking about it on their resume\n",
    "tweets['Resume'] = tweets['text'].apply(lambda tweet: word_in_text('Resume', tweet))\n",
    "print tweets.Resume.value_counts()[True]"
   ]
  },
  {
   "cell_type": "code",
   "execution_count": 15,
   "metadata": {
    "collapsed": false
   },
   "outputs": [
    {
     "name": "stdout",
     "output_type": "stream",
     "text": [
      "66\n"
     ]
    }
   ],
   "source": [
    "#Generically talking about coding in the language\n",
    "tweets['Coding'] = tweets['text'].apply(lambda tweet: word_in_text('Coding', tweet))\n",
    "print tweets.Coding.value_counts()[True]"
   ]
  },
  {
   "cell_type": "code",
   "execution_count": 16,
   "metadata": {
    "collapsed": false
   },
   "outputs": [
    {
     "data": {
      "text/plain": [
       "0"
      ]
     },
     "execution_count": 16,
     "metadata": {},
     "output_type": "execute_result"
    }
   ],
   "source": [
    "#Retweet information not provided to client\n",
    "tweets.retweet_count.max()"
   ]
  },
  {
   "cell_type": "code",
   "execution_count": 17,
   "metadata": {
    "collapsed": false
   },
   "outputs": [
    {
     "name": "stdout",
     "output_type": "stream",
     "text": [
      "7\n"
     ]
    }
   ],
   "source": [
    "#Are the tweets geo-tagged\n",
    "print tweets.geo.loc[tweets.geo.notnull()].count()"
   ]
  },
  {
   "cell_type": "markdown",
   "metadata": {},
   "source": [
    "###Content extraction\n",
    "The word search revealed that tweets tied to the hiring process were most common.\n",
    "Tweets with the words 'hiring' and 'jobs' having the highest frequency.  \n",
    "To look at the the most important concepts of these tweets, the next section will analyze and create word grouping using clustering with \n",
    "Non-negative Matrix Factorization. To run the term frequency calculations,\n",
    "only the English language tweets were considered."
   ]
  },
  {
   "cell_type": "code",
   "execution_count": 18,
   "metadata": {
    "collapsed": false
   },
   "outputs": [],
   "source": [
    "#select english stopwords to remove from term frequency calculation\n",
    "cachedStopWords = set(stopwords.words(\"english\"))\n",
    "#add custom words for slang and common abreviations\n",
    "cachedStopWords.update(('and','I','A','And','So','arnt','This','When','It',\\\n",
    "                        'many','Many','so','cant','Yes','yes','No','no',\\\n",
    "                        'These','these','',' ','ok','na', 'edit','idk',\\\n",
    "                        'gon','wasnt','yt','sure','watch','whats','youre',\\\n",
    "                        'theyll','anyone'))"
   ]
  },
  {
   "cell_type": "code",
   "execution_count": 19,
   "metadata": {
    "collapsed": true
   },
   "outputs": [],
   "source": [
    "def lemmatizer(text):\n",
    "    \"\"\"Lemmatize all words in tweet texts to eliminate non-words and \n",
    "       return the word stems.\"\"\"\n",
    "    text = text.lower()\n",
    "\n",
    "    stemmer = WordNetLemmatizer()\n",
    "    text = text.encode('ascii', 'ignore')\n",
    "    text = text.translate(string.maketrans(\"\",\"\"), string.punctuation)\n",
    "\n",
    "    stop = stopwords.words('english')\n",
    "    words = [stemmer.lemmatize(word) for word in text.split() if word not in stop]\n",
    "\n",
    "    return ' '.join(words)\n",
    "\n",
    "tweets['words'] = tweets.text.apply(lambda x: lemmatizer(x))"
   ]
  },
  {
   "cell_type": "code",
   "execution_count": 20,
   "metadata": {
    "collapsed": false
   },
   "outputs": [],
   "source": [
    "#Run TF-IDF to get word frequencies across tweets\n",
    "vectorizer = TfidfVectorizer(stop_words=cachedStopWords)\n",
    "tweets['tf_text'] = vectorizer.fit_transform(tweets.words)"
   ]
  },
  {
   "cell_type": "code",
   "execution_count": 21,
   "metadata": {
    "collapsed": true
   },
   "outputs": [],
   "source": [
    "#Run Niave Bayes model sentiment binary classifier\n",
    "#See 'create_sentiment_model.py' for pickle creation.\n",
    "with open('sentiment_clf_full.pkl', 'rb') as pk:\n",
    "    clf = dill.load(pk)"
   ]
  },
  {
   "cell_type": "code",
   "execution_count": 22,
   "metadata": {
    "collapsed": false,
    "scrolled": true
   },
   "outputs": [
    {
     "name": "stdout",
     "output_type": "stream",
     "text": [
      "pos    4034\n",
      "dtype: int64\n"
     ]
    }
   ],
   "source": [
    "tweets['sentiments'] = tweets.words.loc[tweets.lang == 'en'].apply(lambda x: clf.classify(x));\n",
    "print tweets.sentiments.value_counts()\n",
    "tweets.sentiments = tweets.sentiments.apply(lambda x: 1 if x=='pos' else -1)"
   ]
  },
  {
   "cell_type": "code",
   "execution_count": 23,
   "metadata": {
    "collapsed": false
   },
   "outputs": [
    {
     "name": "stdout",
     "output_type": "stream",
     "text": [
      "Pos/Neg counts for Python: \n",
      " 1    1242\n",
      "-1     430\n",
      "dtype: int64\n",
      "\n",
      "Pos/Neg counts for Javascript: \n",
      " 1    2433\n",
      "-1     689\n",
      "dtype: int64\n"
     ]
    }
   ],
   "source": [
    "print \"Pos/Neg counts for Python: \"\n",
    "print tweets.loc[tweets.Python == True]['sentiments'].value_counts()\n",
    "print \n",
    "print \"Pos/Neg counts for Javascript: \"\n",
    "print tweets.loc[tweets.Javascript == True]['sentiments'].value_counts()"
   ]
  },
  {
   "cell_type": "code",
   "execution_count": 24,
   "metadata": {
    "collapsed": false
   },
   "outputs": [],
   "source": [
    "def NMF_tkn_words(X, n_features=10000, n_topics=4, n_top_words=4,\\\n",
    "                  random_state=1):\n",
    "    \"\"\"\n",
    "        Non-negative matrix factorization to group tokenized words into\n",
    "        topic clusters.\n",
    "    \"\"\"\n",
    "\n",
    "    n_samples = X.shape[0]\n",
    "    #select english stopwords\n",
    "    cachedStopWords = set(stopwords.words(\"english\"))\n",
    "    #update list\n",
    "    cachedStopWords.update(('and','I','A','And','So','arnt','This','When','It',\\\n",
    "                            'many','Many','so','cant','Yes','yes','No','no',\\\n",
    "                            'These','these','',' ','ok','na', 'edit','idk',\\\n",
    "                            'gon','wasnt','yt','sure','watch','whats','youre',\\\n",
    "                            'theyll','anyone'))\n",
    "\n",
    "    vectorizer = TfidfVectorizer(stop_words=cachedStopWords)\n",
    "    X = vectorizer.fit_transform(X).toarray()\n",
    "\n",
    "    # Fit the NMF model\n",
    "    print(\"Fitting the NMF model with n_samples=%d and n_features=%d...\"\n",
    "          % (n_samples, n_features))\n",
    "\n",
    "    nmf = NMF(n_components=n_topics, random_state=random_state).fit(X)\n",
    "    feature_names = vectorizer.get_feature_names()\n",
    "\n",
    "    for topic_idx, topic in enumerate(nmf.components_):\n",
    "        print(\"Topic #%d:\" % topic_idx)\n",
    "        print(\" \".join([feature_names[i]\\\n",
    "                        for i in topic.argsort()[:-n_top_words - 1:-1]]))\n",
    "\n",
    "    return feature_names"
   ]
  },
  {
   "cell_type": "code",
   "execution_count": 25,
   "metadata": {
    "collapsed": true
   },
   "outputs": [],
   "source": [
    "def words_in_text(word_list, text):\n",
    "    \"\"\"Regex search for keyword in input text returning boolean.\"\"\"\n",
    "    text = text.lower()\n",
    "    for ix,word in enumerate(word_list):\n",
    "        word = word.lower()\n",
    "        match = re.search(word, text)\n",
    "        if match:\n",
    "            return True\n",
    "        elif ix < len(word_list):\n",
    "            continue\n",
    "        else:\n",
    "            return False"
   ]
  },
  {
   "cell_type": "code",
   "execution_count": 26,
   "metadata": {
    "collapsed": false
   },
   "outputs": [
    {
     "name": "stdout",
     "output_type": "stream",
     "text": [
      "717\n"
     ]
    }
   ],
   "source": [
    "tweets['jobs_hiring'] = tweets['words'].apply(lambda tweet: words_in_text(['Hire','Job','Hiring','Jobs'], tweet))\n",
    "print tweets.jobs_hiring.value_counts()[True]"
   ]
  },
  {
   "cell_type": "code",
   "execution_count": 27,
   "metadata": {
    "collapsed": false
   },
   "outputs": [
    {
     "name": "stdout",
     "output_type": "stream",
     "text": [
      "Fitting the NMF model with n_samples=535 and n_features=10000...\n",
      "Topic #0:\n",
      "newyork javascriptphp technology system\n",
      "Topic #1:\n",
      "startupjobs coder hyderabad hardcore\n",
      "Topic #2:\n",
      "gesucht html meteorjs cs\n",
      "Topic #3:\n",
      "job javascript developer looking\n",
      "00175\n"
     ]
    }
   ],
   "source": [
    "#Word clusters for companies hiring for Javascript skills\n",
    "print NMF_tkn_words(tweets.words.loc[tweets.jobs_hiring == True].loc[tweets.Javascript == True])[0]"
   ]
  },
  {
   "cell_type": "code",
   "execution_count": 28,
   "metadata": {
    "collapsed": false
   },
   "outputs": [
    {
     "name": "stdout",
     "output_type": "stream",
     "text": [
      "Fitting the NMF model with n_samples=107 and n_features=10000...\n",
      "Topic #0:\n",
      "devops cs html hale group amp admin ltd vikasjee linux\n",
      "Topic #1:\n",
      "job python engineer career software hiring developer senior javascript mysql\n",
      "Topic #2:\n",
      "posted want httpstcoj ageis opportunity ninja securityminded securedrop work rt\n",
      "Topic #3:\n",
      "making front quantitative desk office market looking developer job python\n",
      "01601\n"
     ]
    }
   ],
   "source": [
    "#Word clusters for companies hiring for Python skills\n",
    "print NMF_tkn_words(tweets.words.loc[tweets.jobs_hiring == True].loc[tweets.Python == True], n_top_words=10)[0]"
   ]
  },
  {
   "cell_type": "markdown",
   "metadata": {},
   "source": [
    "-----------------------------------------------------------------------------------------------------------------\n",
    "The difference between the word clusters shows up quite distinctly. The most commonly used words in Javascript job tweets talk about skills and application to specific web applications. Words such as php/html showed up regularly with Javascript. \n",
    "\n",
    "But when looking at the Python job tweets, the story was focused differently. Gone was most of the talk about programming packages. Instead, the talk was about the company hiring or secondary 'soft' skills.  This test seems to reveal that the hiring managers who are posting these tweets do not have a consistent vocabulary when looking for candidates."
   ]
  },
  {
   "cell_type": "code",
   "execution_count": null,
   "metadata": {
    "collapsed": true
   },
   "outputs": [],
   "source": []
  }
 ],
 "metadata": {
  "kernelspec": {
   "display_name": "Python 2",
   "language": "python",
   "name": "python2"
  },
  "language_info": {
   "codemirror_mode": {
    "name": "ipython",
    "version": 2
   },
   "file_extension": ".py",
   "mimetype": "text/x-python",
   "name": "python",
   "nbconvert_exporter": "python",
   "pygments_lexer": "ipython2",
   "version": "2.7.10"
  }
 },
 "nbformat": 4,
 "nbformat_minor": 0
}
